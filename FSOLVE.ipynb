{
 "cells": [
  {
   "cell_type": "code",
   "execution_count": 5,
   "metadata": {},
   "outputs": [
    {
     "name": "stdout",
     "output_type": "stream",
     "text": [
      "(x, y, z, r) = [150.         150.         -26.40425484   0.        ]\n"
     ]
    },
    {
     "name": "stderr",
     "output_type": "stream",
     "text": [
      "/usr/local/lib64/python3.6/site-packages/scipy/optimize/minpack.py:163: RuntimeWarning: The iteration is not making good progress, as measured by the \n",
      "  improvement from the last ten iterations.\n",
      "  warnings.warn(msg, RuntimeWarning)\n"
     ]
    }
   ],
   "source": [
    "from scipy.optimize import fsolve\n",
    "\n",
    "# Coordinates from SPS\n",
    "x1, y1, z1 = ( 100, 100, -6 )\n",
    "x2, y2, z2 = ( 200, 100, -6 )\n",
    "x3, y3, z3 = ( 100, 200, -6 )\n",
    "x4, y4, z4 = ( 200, 200, -6 )\n",
    "\n",
    "\n",
    "\n",
    "# Distances in m from FBP\n",
    "dist_1 = 117.6\n",
    "dist_2 = 117.64\n",
    "dist_3 = 117.6\n",
    "dist_4 = 117.2\n",
    "\n",
    "\n",
    "# Define a function that evaluates the equations\n",
    "def equations( guess ):\n",
    "    x, y, z, r = guess\n",
    "\n",
    "    return (\n",
    "        (x - x1)**2 + (y - y1)**2 + (z - z1)**2 - (dist_1 * r )**2,\n",
    "        (x - x2)**2 + (y - y2)**2 + (z - z2)**2 - (dist_2 * r )**2,\n",
    "        (x - x3)**2 + (y - y3)**2 + (z - z3)**2 - (dist_3 * r )**2,\n",
    "        (x - x4)**2 + (y - y4)**2 + (z - z4)**2 - (dist_4 * r )**2,\n",
    "    )\n",
    "\n",
    "\n",
    "# Make SciPy solve the system using an initial guess.\n",
    "# The initial guess affects which of the \"candidates\" SciPy finds.\n",
    "initial_guess = (150, 150, -100, 0)\n",
    "result = fsolve( equations, initial_guess )\n",
    "\n",
    "# Display the results.\n",
    "print( \"(x, y, z, r) =\", result )\n"
   ]
  },
  {
   "cell_type": "code",
   "execution_count": null,
   "metadata": {},
   "outputs": [],
   "source": []
  }
 ],
 "metadata": {
  "kernelspec": {
   "display_name": "Python 3",
   "language": "python",
   "name": "python3"
  },
  "language_info": {
   "codemirror_mode": {
    "name": "ipython",
    "version": 3
   },
   "file_extension": ".py",
   "mimetype": "text/x-python",
   "name": "python",
   "nbconvert_exporter": "python",
   "pygments_lexer": "ipython3",
   "version": "3.6.5"
  }
 },
 "nbformat": 4,
 "nbformat_minor": 2
}
